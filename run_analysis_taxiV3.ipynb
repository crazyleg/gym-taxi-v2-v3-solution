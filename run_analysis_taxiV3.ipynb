{
 "cells": [
  {
   "cell_type": "code",
   "execution_count": 3,
   "metadata": {},
   "outputs": [],
   "source": [
    "from agent import Agent\n",
    "from monitor import interact\n",
    "import gym\n",
    "import numpy as np\n",
    "import seaborn as sns\n",
    "import pandas as pd"
   ]
  },
  {
   "cell_type": "code",
   "execution_count": 4,
   "metadata": {},
   "outputs": [],
   "source": [
    "optimal_sarsa_max = {'algorithm': 'sarsamax','alpha': 0.2512238484351891, 'epsilon_cut': 0, 'epsilon_decay': 0.8888782926665223, 'start_epsilon': 0.9957089031634627, 'gamma': 0.7749915552696941}\n",
    "optimal_exp_sarsa = {'algorithm': 'exp_sarsa', 'alpha': 0.2946281065178629, 'epsilon_cut': 0, 'epsilon_decay': 0.8978159313202051, 'start_epsilon': 0.9803552534195048, 'gamma': 0.6673937505783256}\n"
   ]
  },
  {
   "cell_type": "code",
   "execution_count": 5,
   "metadata": {},
   "outputs": [
    {
     "name": "stdout",
     "output_type": "stream",
     "text": [
      "Episode 20000/20000 || Best average reward 8.766\n",
      "\n",
      "Episode 20000/20000 || Best average reward 8.794\n",
      "\n"
     ]
    }
   ],
   "source": [
    "env = gym.make('Taxi-v3')\n",
    "agent = Agent(**optimal_sarsa_max)\n",
    "avg_rewards_sarsamax, best_avg_reward_sarsamax = interact(env, agent)\n",
    "\n",
    "agent = Agent(**optimal_exp_sarsa)\n",
    "avg_rewards_exp_sarsa, best_avg_exp_sarsa = interact(env, agent)"
   ]
  },
  {
   "cell_type": "code",
   "execution_count": 7,
   "metadata": {},
   "outputs": [
    {
     "data": {
      "text/plain": [
       "reward          8.76\n",
       "episode        19900\n",
       "type       Sarsa Max\n",
       "dtype: object"
      ]
     },
     "execution_count": 7,
     "metadata": {},
     "output_type": "execute_result"
    }
   ],
   "source": [
    "data[data.type=='Sarsa Max'].max()"
   ]
  },
  {
   "cell_type": "code",
   "execution_count": 8,
   "metadata": {},
   "outputs": [
    {
     "data": {
      "text/plain": [
       "reward                   8.7\n",
       "episode                19900\n",
       "type       Expectation Sarsa\n",
       "dtype: object"
      ]
     },
     "execution_count": 8,
     "metadata": {},
     "output_type": "execute_result"
    }
   ],
   "source": [
    "data[data.type=='Expectation Sarsa'].max()"
   ]
  },
  {
   "cell_type": "code",
   "execution_count": 9,
   "metadata": {},
   "outputs": [],
   "source": [
    "data = pd.DataFrame(list(avg_rewards_sarsamax), columns=['reward'])\n",
    "data.loc[:,'episode'] = range(0,len(list(avg_rewards_sarsamax)))\n",
    "data.loc[:,'type'] = 'Sarsa Max'\n",
    "\n",
    "data1 = pd.DataFrame(list(avg_rewards_exp_sarsa), columns=['reward'])\n",
    "data1.loc[:,'episode'] = range(0,len(list(avg_rewards_sarsamax)))\n",
    "data1.loc[:,'type'] = 'Expectation Sarsa'\n",
    "\n",
    "data = data1.append(data)"
   ]
  },
  {
   "cell_type": "code",
   "execution_count": 10,
   "metadata": {},
   "outputs": [
    {
     "data": {
      "text/html": [
       "<div>\n",
       "<style scoped>\n",
       "    .dataframe tbody tr th:only-of-type {\n",
       "        vertical-align: middle;\n",
       "    }\n",
       "\n",
       "    .dataframe tbody tr th {\n",
       "        vertical-align: top;\n",
       "    }\n",
       "\n",
       "    .dataframe thead th {\n",
       "        text-align: right;\n",
       "    }\n",
       "</style>\n",
       "<table border=\"1\" class=\"dataframe\">\n",
       "  <thead>\n",
       "    <tr style=\"text-align: right;\">\n",
       "      <th></th>\n",
       "      <th>reward</th>\n",
       "      <th>episode</th>\n",
       "      <th>type</th>\n",
       "    </tr>\n",
       "  </thead>\n",
       "  <tbody>\n",
       "    <tr>\n",
       "      <th>0</th>\n",
       "      <td>-265.71</td>\n",
       "      <td>0</td>\n",
       "      <td>Expectation Sarsa</td>\n",
       "    </tr>\n",
       "    <tr>\n",
       "      <th>1</th>\n",
       "      <td>-259.06</td>\n",
       "      <td>1</td>\n",
       "      <td>Expectation Sarsa</td>\n",
       "    </tr>\n",
       "    <tr>\n",
       "      <th>2</th>\n",
       "      <td>-254.29</td>\n",
       "      <td>2</td>\n",
       "      <td>Expectation Sarsa</td>\n",
       "    </tr>\n",
       "    <tr>\n",
       "      <th>3</th>\n",
       "      <td>-248.71</td>\n",
       "      <td>3</td>\n",
       "      <td>Expectation Sarsa</td>\n",
       "    </tr>\n",
       "    <tr>\n",
       "      <th>4</th>\n",
       "      <td>-242.68</td>\n",
       "      <td>4</td>\n",
       "      <td>Expectation Sarsa</td>\n",
       "    </tr>\n",
       "    <tr>\n",
       "      <th>...</th>\n",
       "      <td>...</td>\n",
       "      <td>...</td>\n",
       "      <td>...</td>\n",
       "    </tr>\n",
       "    <tr>\n",
       "      <th>19896</th>\n",
       "      <td>7.96</td>\n",
       "      <td>19896</td>\n",
       "      <td>Sarsa Max</td>\n",
       "    </tr>\n",
       "    <tr>\n",
       "      <th>19897</th>\n",
       "      <td>7.97</td>\n",
       "      <td>19897</td>\n",
       "      <td>Sarsa Max</td>\n",
       "    </tr>\n",
       "    <tr>\n",
       "      <th>19898</th>\n",
       "      <td>7.87</td>\n",
       "      <td>19898</td>\n",
       "      <td>Sarsa Max</td>\n",
       "    </tr>\n",
       "    <tr>\n",
       "      <th>19899</th>\n",
       "      <td>7.93</td>\n",
       "      <td>19899</td>\n",
       "      <td>Sarsa Max</td>\n",
       "    </tr>\n",
       "    <tr>\n",
       "      <th>19900</th>\n",
       "      <td>7.98</td>\n",
       "      <td>19900</td>\n",
       "      <td>Sarsa Max</td>\n",
       "    </tr>\n",
       "  </tbody>\n",
       "</table>\n",
       "<p>39802 rows × 3 columns</p>\n",
       "</div>"
      ],
      "text/plain": [
       "       reward  episode               type\n",
       "0     -265.71        0  Expectation Sarsa\n",
       "1     -259.06        1  Expectation Sarsa\n",
       "2     -254.29        2  Expectation Sarsa\n",
       "3     -248.71        3  Expectation Sarsa\n",
       "4     -242.68        4  Expectation Sarsa\n",
       "...       ...      ...                ...\n",
       "19896    7.96    19896          Sarsa Max\n",
       "19897    7.97    19897          Sarsa Max\n",
       "19898    7.87    19898          Sarsa Max\n",
       "19899    7.93    19899          Sarsa Max\n",
       "19900    7.98    19900          Sarsa Max\n",
       "\n",
       "[39802 rows x 3 columns]"
      ]
     },
     "execution_count": 10,
     "metadata": {},
     "output_type": "execute_result"
    }
   ],
   "source": [
    "data"
   ]
  },
  {
   "cell_type": "code",
   "execution_count": 12,
   "metadata": {},
   "outputs": [
    {
     "data": {
      "image/png": "[encoded data removed]",
      "text/plain": [
       "<Figure size 842.4x595.44 with 1 Axes>"
      ]
     },
     "metadata": {},
     "output_type": "display_data"
    }
   ],
   "source": [
    "sns.set(rc={'figure.figsize':(11.7,8.27)})\n",
    "sns_plot = sns.lineplot(x='episode', y='reward', hue='type',data = data[data.episode<1000])\n",
    "sns_plot.figure.savefig(\"tax1v3.png\")"
   ]
  },
  {
   "cell_type": "code",
   "execution_count": 14,
   "metadata": {},
   "outputs": [
    {
     "name": "stdout",
     "output_type": "stream",
     "text": [
      "Episode 20000/20000 || Best average reward 9.077\n",
      "\n",
      "Episode 20000/20000 || Best average reward 8.789\n",
      "\n",
      "Episode 20000/20000 || Best average reward 8.715\n",
      "\n",
      "Episode 20000/20000 || Best average reward 8.754\n",
      "\n",
      "Episode 20000/20000 || Best average reward 8.878\n",
      "\n",
      "Episode 20000/20000 || Best average reward 8.795\n",
      "\n",
      "Episode 20000/20000 || Best average reward 8.812\n",
      "\n",
      "Episode 20000/20000 || Best average reward 8.648\n",
      "\n",
      "Episode 20000/20000 || Best average reward 8.742\n",
      "\n",
      "Episode 20000/20000 || Best average reward 8.791\n",
      "\n",
      "Episode 20000/20000 || Best average reward 8.799\n",
      "\n",
      "Episode 20000/20000 || Best average reward 8.812\n",
      "\n",
      "Episode 20000/20000 || Best average reward 8.792\n",
      "\n",
      "Episode 20000/20000 || Best average reward 8.723\n",
      "\n",
      "Episode 20000/20000 || Best average reward 8.682\n",
      "\n",
      "Episode 20000/20000 || Best average reward 8.931\n",
      "\n",
      "Episode 20000/20000 || Best average reward 8.933\n",
      "\n",
      "Episode 20000/20000 || Best average reward 8.753\n",
      "\n",
      "Episode 20000/20000 || Best average reward 8.748\n",
      "\n",
      "Episode 20000/20000 || Best average reward 8.719\n",
      "\n"
     ]
    }
   ],
   "source": [
    "#Who wins more often? SarsaMax of Expectation Sarsa?\n",
    "sarsa_max_wins = 0\n",
    "for i in range(10):\n",
    "    env = gym.make('Taxi-v3')\n",
    "    agent = Agent(**optimal_sarsa_max)\n",
    "    avg_rewards_sarsamax, best_avg_reward_sarsamax = interact(env, agent)\n",
    "\n",
    "    agent = Agent(**optimal_exp_sarsa)\n",
    "    avg_rewards_exp_sarsa, best_avg_exp_sarsa = interact(env, agent)\n",
    "    \n",
    "    if best_avg_reward_sarsamax>best_avg_exp_sarsa: sarsa_max_wins += 1"
   ]
  },
  {
   "cell_type": "code",
   "execution_count": 15,
   "metadata": {},
   "outputs": [
    {
     "name": "stdout",
     "output_type": "stream",
     "text": [
      "Sarsa max wins in 60.0% of cases\n"
     ]
    }
   ],
   "source": [
    "print(f'Sarsa max wins in {sarsa_max_wins/10*100}% of cases')"
   ]
  },
  {
   "cell_type": "code",
   "execution_count": null,
   "metadata": {},
   "outputs": [],
   "source": []
  }
 ],
 "metadata": {
  "kernelspec": {
   "display_name": "Python 3",
   "language": "python",
   "name": "python3"
  },
  "language_info": {
   "codemirror_mode": {
    "name": "ipython",
    "version": 3
   },
   "file_extension": ".py",
   "mimetype": "text/x-python",
   "name": "python",
   "nbconvert_exporter": "python",
   "pygments_lexer": "ipython3",
   "version": "3.6.10"
  }
 },
 "nbformat": 4,
 "nbformat_minor": 4
}
